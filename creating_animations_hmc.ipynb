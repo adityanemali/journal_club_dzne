{
 "cells": [
  {
   "cell_type": "markdown",
   "metadata": {},
   "source": [
    "# Creating animations with MCMC\n",
    "\n",
    "## Introduction\n",
    "This notebook shows how to generate cool logo animations via MCMC. It builds upon the following two open source packages:\n",
    "* imcmc\n",
    "* PyMC3\n",
    "\n"
   ]
  },
  {
   "cell_type": "markdown",
   "metadata": {},
   "source": [
    "# Main"
   ]
  },
  {
   "cell_type": "code",
   "execution_count": null,
   "metadata": {},
   "outputs": [
    {
     "name": "stderr",
     "output_type": "stream",
     "text": [
      "Multiprocess sampling (6 chains in 4 jobs)\n",
      "Metropolis: [image]\n",
      "Sampling 6 chains: 100%|██████████| 39000/39000 [00:04<00:00, 8680.13draws/s]\n",
      "The gelman-rubin statistic is larger than 1.2 for some parameters.\n",
      "The estimated number of effective samples is smaller than 200 for some parameters.\n"
     ]
    }
   ],
   "source": [
    "import imcmc\n",
    "\n",
    "\n",
    "image = imcmc.load_image('iknd-logo.png', 'L')\n",
    "\n",
    "# This call is random -- rerun adjusting parameters until the image looks good\n",
    "trace = imcmc.sample_grayscale(image, samples=5000, tune=1500, nchains=6)\n",
    "\n",
    "# Lots of plotting options!\n",
    "imcmc.plot_multitrace(trace, image, marker='o', markersize=4,\n",
    "                      colors = ['#3e4184', '#4f89bd', '#7c7772'], alpha=0.5);\n",
    "\n",
    "# Save as a gif, with the same arguments as above, plus some more\n",
    "imcmc.make_gif(trace, image, dpi=40, marker='o', markersize=4,\n",
    "               colors = ['#3e4184', '#4f89bd', '#7c7772'], alpha=0.5,\n",
    "               filename='iknd-logo.gif')"
   ]
  },
  {
   "cell_type": "code",
   "execution_count": null,
   "metadata": {},
   "outputs": [],
   "source": []
  }
 ],
 "metadata": {
  "kernelspec": {
   "display_name": "Python 3",
   "language": "python",
   "name": "python3"
  },
  "language_info": {
   "codemirror_mode": {
    "name": "ipython",
    "version": 3
   },
   "file_extension": ".py",
   "mimetype": "text/x-python",
   "name": "python",
   "nbconvert_exporter": "python",
   "pygments_lexer": "ipython3",
   "version": "3.7.3"
  }
 },
 "nbformat": 4,
 "nbformat_minor": 2
}
